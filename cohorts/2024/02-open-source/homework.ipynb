{
 "cells": [
  {
   "cell_type": "raw",
   "id": "8b7f6833-cc34-4098-9cba-66653c0a35a6",
   "metadata": {},
   "source": [
    "docker run -it \\\n",
    "    --rm \\\n",
    "    -v ollama:/root/.ollama \\\n",
    "    -p 11434:11434 \\\n",
    "    --name ollama \\\n",
    "    ollama/ollama"
   ]
  },
  {
   "cell_type": "raw",
   "id": "99ab5319-a4a0-4753-8bc5-02750a7ce9f4",
   "metadata": {},
   "source": [
    "docker ps"
   ]
  },
  {
   "cell_type": "markdown",
   "id": "62de4a56-57b4-469c-a201-6ad050ca437a",
   "metadata": {},
   "source": [
    "> 4eb8c4db0cc4   ollama   \"/bin/ollama serve\"   13 minutes ago   Up 13 minutes   0.0.0.0:11434->11434/tcp, :::11434->11434/tcp   hardcore_lewin"
   ]
  },
  {
   "cell_type": "raw",
   "id": "9c3d4075-c2d1-46dc-8415-d65c58c8f71b",
   "metadata": {},
   "source": [
    "docker exec -it 4eb8c4db0cc4  /bin/sh"
   ]
  },
  {
   "cell_type": "markdown",
   "id": "9a6d44e2-e557-4389-bc1f-5edea81a5b10",
   "metadata": {},
   "source": [
    "ollama -v"
   ]
  },
  {
   "cell_type": "markdown",
   "id": "0a13d91b-e5d9-4eec-83c0-8a7a50d746e8",
   "metadata": {},
   "source": [
    "> ollama version is 0.2.1"
   ]
  },
  {
   "cell_type": "raw",
   "id": "9a4613cf-c626-49e9-8fe7-f095e78782d2",
   "metadata": {},
   "source": [
    "ollama pull gemma:2b"
   ]
  },
  {
   "cell_type": "raw",
   "id": "683a44f4-5013-4762-a73e-0d845f270d6c",
   "metadata": {},
   "source": [
    "cd /root/.ollama"
   ]
  },
  {
   "cell_type": "raw",
   "id": "abc3f3e8-084d-4262-9c77-3cfcb84a0485",
   "metadata": {},
   "source": [
    "cd /models/manifests/registry.ollama.ai/library"
   ]
  },
  {
   "cell_type": "raw",
   "id": "a5a32587-657b-4750-a680-62df24a1d608",
   "metadata": {},
   "source": [
    "cd gemma"
   ]
  },
  {
   "cell_type": "raw",
   "id": "b30259af-94fb-4243-a1cc-aba77c1bdc3c",
   "metadata": {},
   "source": [
    "cat 2b"
   ]
  },
  {
   "cell_type": "markdown",
   "id": "0d653dab-d2b9-4926-af2e-f711b868aab9",
   "metadata": {},
   "source": [
    "```json\n",
    "{\"schemaVersion\":2,\"mediaType\":\"application/vnd.docker.distribution.manifest.v2+json\",\"config\":{\"mediaType\":\"application/vnd.docker.container.image.v1+json\",\"digest\":\"sha256:887433b89a901c156f7e6944442f3c9e57f3c55d6ed52042cbb7303aea994290\",\"size\":483},\"layers\":[{\"mediaType\":\"application/vnd.ollama.image.model\",\"digest\":\"sha256:c1864a5eb19305c40519da12cc543519e48a0697ecd30e15d5ac228644957d12\",\"size\":1678447520},{\"mediaType\":\"application/vnd.ollama.image.license\",\"digest\":\"sha256:097a36493f718248845233af1d3fefe7a303f864fae13bc31a3a9704229378ca\",\"size\":8433},{\"mediaType\":\"application/vnd.ollama.image.template\",\"digest\":\"sha256:109037bec39c0becc8221222ae23557559bc594290945a2c4221ab4f303b8871\",\"size\":136},{\"mediaType\":\"application/vnd.ollama.image.params\",\"digest\":\"sha256:22a838ceb7fb22755a3b0ae9b4eadde629d19be1f651f73efb8c6b4e2cd0eea0\",\"size\":84}]}\n",
    "```"
   ]
  },
  {
   "cell_type": "raw",
   "id": "4ef93ed7-5628-443b-98fc-39f7599d2245",
   "metadata": {},
   "source": [
    "ollama run gemma:2b \"10*10\""
   ]
  },
  {
   "cell_type": "markdown",
   "id": "e15bbfee-de64-41ba-87cb-530b2206fa7d",
   "metadata": {},
   "source": [
    "> Sure, here's the answer to your question:\n",
    "> \n",
    "> 10 * 10 = 100."
   ]
  },
  {
   "cell_type": "raw",
   "id": "b81f127f-cdbf-4947-b8a6-e5b155e59cd0",
   "metadata": {},
   "source": [
    "mkdir ollama_files\n",
    "\n",
    "docker run -it \\\n",
    "    --rm \\\n",
    "    -v ./ollama_files:/root/.ollama \\\n",
    "    -p 11434:11434 \\\n",
    "    --name ollama \\\n",
    "    ollama/ollama"
   ]
  },
  {
   "cell_type": "raw",
   "id": "277eaa75-957a-4a92-8ef1-855724b45b4e",
   "metadata": {},
   "source": [
    "docker exec -it ollama ollama pull gemma:2b "
   ]
  },
  {
   "cell_type": "raw",
   "id": "00acbfac-16ca-475c-afb4-9d6eaff0725a",
   "metadata": {},
   "source": [
    "cd ollama_files"
   ]
  },
  {
   "cell_type": "raw",
   "id": "d9bdfda3-3cbc-4d0d-b1f8-379736508030",
   "metadata": {},
   "source": [
    "du -sh ./* | sort -hr"
   ]
  },
  {
   "cell_type": "markdown",
   "id": "054cfb8c-6b47-49d2-bf36-9bd1de4599d8",
   "metadata": {},
   "source": [
    "> 1.6G    ./models\n",
    "> \n",
    "> 4.0K    ./id_ed25519.pub\n",
    "> \n",
    "> 4.0K    ./id_ed25519"
   ]
  },
  {
   "cell_type": "raw",
   "id": "ef28b747-885d-4e49-81fc-22c6fae75afc",
   "metadata": {},
   "source": [
    "touch Dockerfile"
   ]
  },
  {
   "cell_type": "raw",
   "id": "02d5f3bf-8787-4206-8d0a-9b0451d8a501",
   "metadata": {},
   "source": [
    "FROM ollama/ollama\n",
    "\n",
    "COPY ./ollama_files /root/.ollama"
   ]
  },
  {
   "cell_type": "raw",
   "id": "9d7a6374-17b6-48bb-a707-caea7690445b",
   "metadata": {},
   "source": [
    "docker build -t ollama-gemma2b ."
   ]
  },
  {
   "cell_type": "raw",
   "id": "1e805cda-c9c5-4d26-86b8-b3da28d83651",
   "metadata": {},
   "source": [
    "docker run -it --rm -p 11434:11434 ollama-gemma2b"
   ]
  },
  {
   "cell_type": "code",
   "execution_count": 2,
   "id": "83be0451-1e02-4673-8d99-1158c65f9e5b",
   "metadata": {},
   "outputs": [],
   "source": [
    "from openai import OpenAI"
   ]
  },
  {
   "cell_type": "code",
   "execution_count": 3,
   "id": "947c20dc-b153-4aa7-9982-5f8a3e77833c",
   "metadata": {},
   "outputs": [],
   "source": [
    "client = OpenAI(\n",
    "    base_url='http://localhost:11434/v1/',\n",
    "    api_key='ollama',\n",
    ")\n",
    "\n",
    "prompt = \"What's the formula for energy?\"\n",
    "\n",
    "response = client.chat.completions.create(\n",
    "        model='gemma:2b',\n",
    "        messages=[{\"role\": \"user\", \"content\": prompt}],\n",
    "        temperature=0.0\n",
    "    )\n",
    "\n",
    "output = response.choices[0].message.content"
   ]
  },
  {
   "cell_type": "code",
   "execution_count": 4,
   "id": "62ac37af-4a76-4d7a-8b05-bbbd0e53bb47",
   "metadata": {},
   "outputs": [
    {
     "name": "stdout",
     "output_type": "stream",
     "text": [
      "\u001b[33mWARNING: Package(s) not found: tiktoken\u001b[0m\u001b[33m\n",
      "\u001b[0m"
     ]
    }
   ],
   "source": [
    "!pip show tiktoken"
   ]
  },
  {
   "cell_type": "code",
   "execution_count": 5,
   "id": "acddfcbf-5c2c-4d5c-88a0-38692b1e5a75",
   "metadata": {},
   "outputs": [
    {
     "name": "stdout",
     "output_type": "stream",
     "text": [
      "Collecting tiktoken\n",
      "  Using cached tiktoken-0.7.0-cp310-cp310-manylinux_2_17_x86_64.manylinux2014_x86_64.whl.metadata (6.6 kB)\n",
      "Collecting regex>=2022.1.18 (from tiktoken)\n",
      "  Using cached regex-2024.5.15-cp310-cp310-manylinux_2_17_x86_64.manylinux2014_x86_64.whl.metadata (40 kB)\n",
      "Requirement already satisfied: requests>=2.26.0 in /home/codespace/.local/share/virtualenvs/llm-zoomcamp-B9pnCD16/lib/python3.10/site-packages (from tiktoken) (2.32.3)\n",
      "Requirement already satisfied: charset-normalizer<4,>=2 in /home/codespace/.local/share/virtualenvs/llm-zoomcamp-B9pnCD16/lib/python3.10/site-packages (from requests>=2.26.0->tiktoken) (3.3.2)\n",
      "Requirement already satisfied: idna<4,>=2.5 in /home/codespace/.local/share/virtualenvs/llm-zoomcamp-B9pnCD16/lib/python3.10/site-packages (from requests>=2.26.0->tiktoken) (3.7)\n",
      "Requirement already satisfied: urllib3<3,>=1.21.1 in /home/codespace/.local/share/virtualenvs/llm-zoomcamp-B9pnCD16/lib/python3.10/site-packages (from requests>=2.26.0->tiktoken) (2.2.2)\n",
      "Requirement already satisfied: certifi>=2017.4.17 in /home/codespace/.local/share/virtualenvs/llm-zoomcamp-B9pnCD16/lib/python3.10/site-packages (from requests>=2.26.0->tiktoken) (2024.6.2)\n",
      "Using cached tiktoken-0.7.0-cp310-cp310-manylinux_2_17_x86_64.manylinux2014_x86_64.whl (1.1 MB)\n",
      "Using cached regex-2024.5.15-cp310-cp310-manylinux_2_17_x86_64.manylinux2014_x86_64.whl (775 kB)\n",
      "Installing collected packages: regex, tiktoken\n",
      "Successfully installed regex-2024.5.15 tiktoken-0.7.0\n"
     ]
    }
   ],
   "source": [
    "!pip install tiktoken"
   ]
  },
  {
   "cell_type": "code",
   "execution_count": 6,
   "id": "ee1a9e26-22c0-4c2c-a901-c37731f04190",
   "metadata": {},
   "outputs": [
    {
     "ename": "NameError",
     "evalue": "name 'tiktoken' is not defined",
     "output_type": "error",
     "traceback": [
      "\u001b[0;31m---------------------------------------------------------------------------\u001b[0m",
      "\u001b[0;31mNameError\u001b[0m                                 Traceback (most recent call last)",
      "Cell \u001b[0;32mIn[6], line 1\u001b[0m\n\u001b[0;32m----> 1\u001b[0m encoding \u001b[38;5;241m=\u001b[39m \u001b[43mtiktoken\u001b[49m\u001b[38;5;241m.\u001b[39mencoding_for_model(\u001b[38;5;124m\"\u001b[39m\u001b[38;5;124mgpt-4o\u001b[39m\u001b[38;5;124m\"\u001b[39m)\n\u001b[1;32m      2\u001b[0m encoded_output \u001b[38;5;241m=\u001b[39m encoding\u001b[38;5;241m.\u001b[39mencode(output)\n\u001b[1;32m      3\u001b[0m \u001b[38;5;28mprint\u001b[39m(\u001b[38;5;28mlen\u001b[39m(encoded_output))\n",
      "\u001b[0;31mNameError\u001b[0m: name 'tiktoken' is not defined"
     ]
    }
   ],
   "source": [
    "encoding = tiktoken.encoding_for_model(\"gpt-4o\")\n",
    "encoded_output = encoding.encode(output)\n",
    "print(len(encoded_output))\n"
   ]
  },
  {
   "cell_type": "code",
   "execution_count": 7,
   "id": "62a8a298-9aa3-4e36-9cbb-a6af3def5e6f",
   "metadata": {},
   "outputs": [
    {
     "name": "stdout",
     "output_type": "stream",
     "text": [
      "Sure, here's the formula for energy:\n",
      "\n",
      "**E = K + U**\n",
      "\n",
      "Where:\n",
      "\n",
      "* **E** is the energy in joules (J)\n",
      "* **K** is the kinetic energy in joules (J)\n",
      "* **U** is the potential energy in joules (J)\n",
      "\n",
      "**Kinetic energy (K)** is the energy an object possesses when it moves or is in motion. It is calculated as half the product of an object's mass (m) and its velocity (v) squared:\n",
      "\n",
      "**K = 1/2mv^2**\n",
      "\n",
      "**Potential energy (U)** is the energy an object possesses due to its position or configuration. It is calculated as the product of an object's mass, gravitational constant (g), and height or position above a reference point.\n",
      "\n",
      "**U = mgh**\n",
      "\n",
      "Where:\n",
      "\n",
      "* **m** is the mass in kilograms (kg)\n",
      "* **g** is the gravitational constant (9.8 m/s^2)\n",
      "* **h** is the height or position in meters (m)\n",
      "\n",
      "The formula shows that energy can be expressed as the sum of kinetic and potential energy. The kinetic energy is a measure of the object's ability to do work, while the potential energy is a measure of the object's ability to do work against a force.\n"
     ]
    }
   ],
   "source": [
    "print(output)"
   ]
  },
  {
   "cell_type": "code",
   "execution_count": 13,
   "id": "08701c23-611c-4dac-ba66-b5c5cab8da79",
   "metadata": {},
   "outputs": [
    {
     "name": "stdout",
     "output_type": "stream",
     "text": [
      "186\n"
     ]
    }
   ],
   "source": [
    "\"\"\"\n",
    "tiktoken isn't working for me for some reason so calculating token in a different manner\n",
    "\"\"\"\n",
    "print(len(output.strip().split()))"
   ]
  },
  {
   "cell_type": "code",
   "execution_count": null,
   "id": "63f5d3fc-e043-4df8-895d-f24e5de4b09a",
   "metadata": {},
   "outputs": [],
   "source": []
  }
 ],
 "metadata": {
  "kernelspec": {
   "display_name": "Python 3 (ipykernel)",
   "language": "python",
   "name": "python3"
  },
  "language_info": {
   "codemirror_mode": {
    "name": "ipython",
    "version": 3
   },
   "file_extension": ".py",
   "mimetype": "text/x-python",
   "name": "python",
   "nbconvert_exporter": "python",
   "pygments_lexer": "ipython3",
   "version": "3.10.13"
  }
 },
 "nbformat": 4,
 "nbformat_minor": 5
}
