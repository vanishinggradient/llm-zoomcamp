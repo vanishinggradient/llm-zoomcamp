{
 "cells": [
  {
   "cell_type": "code",
   "execution_count": 1,
   "id": "57e24f47-74da-48d6-9ee5-757d1f4352dd",
   "metadata": {},
   "outputs": [],
   "source": [
    "model_name = \"multi-qa-distilbert-cos-v1\""
   ]
  },
  {
   "cell_type": "code",
   "execution_count": 4,
   "id": "27ef8193-dcd0-4234-a34e-37175b3961ac",
   "metadata": {},
   "outputs": [],
   "source": [
    "from tqdm.autonotebook import tqdm, trange\n",
    "\n",
    "from sentence_transformers import SentenceTransformer\n",
    "embedding_model = SentenceTransformer(model_name)"
   ]
  },
  {
   "cell_type": "code",
   "execution_count": 5,
   "id": "3f6c7dc5-90d9-45a1-b2e7-ca8613cdf2b9",
   "metadata": {},
   "outputs": [],
   "source": [
    "user_question = \"I just discovered the course. Can I still join it?\""
   ]
  },
  {
   "cell_type": "code",
   "execution_count": 6,
   "id": "849dd846-8e66-4289-9d35-886db3162fb3",
   "metadata": {},
   "outputs": [
    {
     "name": "stdout",
     "output_type": "stream",
     "text": [
      "0.078222655\n"
     ]
    }
   ],
   "source": [
    "user_question_embedding = embedding_model.encode(user_question)\n",
    "\n",
    "print(user_question_embedding[0])"
   ]
  },
  {
   "cell_type": "code",
   "execution_count": 7,
   "id": "ee2b4a75-9bb8-46f5-9eed-1b8ecbf3062d",
   "metadata": {},
   "outputs": [],
   "source": [
    "import requests\n",
    "\n",
    "def load_documents():\n",
    "    base_url = 'https://github.com/DataTalksClub/llm-zoomcamp/blob/main'\n",
    "    relative_url = '03-vector-search/eval/documents-with-ids.json'\n",
    "    docs_url = f'{base_url}/{relative_url}?raw=1'\n",
    "    docs_response = requests.get(docs_url)\n",
    "    documents = docs_response.json()\n",
    "    return documents"
   ]
  },
  {
   "cell_type": "code",
   "execution_count": 8,
   "id": "59f24319-f104-4e90-a3b8-e13c1f43ce60",
   "metadata": {},
   "outputs": [],
   "source": [
    "docs = load_documents()"
   ]
  },
  {
   "cell_type": "code",
   "execution_count": 9,
   "id": "aa10af1d-f6de-4791-9738-1581b641e234",
   "metadata": {},
   "outputs": [
    {
     "name": "stdout",
     "output_type": "stream",
     "text": [
      "948\n"
     ]
    }
   ],
   "source": [
    "print(len(docs))"
   ]
  },
  {
   "cell_type": "code",
   "execution_count": 10,
   "id": "d7755486-ea2a-4daf-9586-eb26eec2eaab",
   "metadata": {},
   "outputs": [
    {
     "data": {
      "text/plain": [
       "{'text': \"The purpose of this document is to capture frequently asked technical questions\\nThe exact day and hour of the course will be 15th Jan 2024 at 17h00. The course will start with the first  “Office Hours'' live.1\\nSubscribe to course public Google Calendar (it works from Desktop only).\\nRegister before the course starts using this link.\\nJoin the course Telegram channel with announcements.\\nDon’t forget to register in DataTalks.Club's Slack and join the channel.\",\n",
       " 'section': 'General course-related questions',\n",
       " 'question': 'Course - When will the course start?',\n",
       " 'course': 'data-engineering-zoomcamp',\n",
       " 'id': 'c02e79ef'}"
      ]
     },
     "execution_count": 10,
     "metadata": {},
     "output_type": "execute_result"
    }
   ],
   "source": [
    "docs[0]"
   ]
  },
  {
   "cell_type": "code",
   "execution_count": 11,
   "id": "ffedea65-ac5e-44b2-a365-4b795e49e857",
   "metadata": {},
   "outputs": [
    {
     "name": "stdout",
     "output_type": "stream",
     "text": [
      "<class 'list'>\n"
     ]
    }
   ],
   "source": [
    "print(type(docs))"
   ]
  },
  {
   "cell_type": "code",
   "execution_count": 15,
   "id": "c81637f3-d662-429d-8fbd-b0b6c346b620",
   "metadata": {},
   "outputs": [
    {
     "name": "stdout",
     "output_type": "stream",
     "text": [
      "375\n"
     ]
    }
   ],
   "source": [
    "course_name = \"machine-learning-zoomcamp\"\n",
    "data = []\n",
    "for doc in docs:\n",
    "    if doc[\"course\"] == course_name:\n",
    "        data.append(doc)\n",
    "print(len(data))"
   ]
  },
  {
   "cell_type": "code",
   "execution_count": 17,
   "id": "dbebf3ed-bfef-47f0-b264-6a15bb68614e",
   "metadata": {},
   "outputs": [
    {
     "name": "stdout",
     "output_type": "stream",
     "text": [
      "375\n"
     ]
    }
   ],
   "source": [
    "embeddings = []\n",
    "\n",
    "for doc in data:\n",
    "    question = doc[\"question\"]\n",
    "    text = doc[\"text\"]\n",
    "    qa_text = f'{question} {text}'\n",
    "    qa_embedding = embedding_model.encode(qa_text)\n",
    "    embeddings.append(qa_embedding)\n",
    "    \n",
    "print(len(embeddings))"
   ]
  },
  {
   "cell_type": "code",
   "execution_count": 19,
   "id": "27b3bf64-a087-447d-a7e4-ac9b1350e41b",
   "metadata": {},
   "outputs": [
    {
     "name": "stdout",
     "output_type": "stream",
     "text": [
      "(375, 768)\n"
     ]
    }
   ],
   "source": [
    "import numpy as np\n",
    "\n",
    "X = np.array(embeddings)\n",
    "print(X.shape)"
   ]
  },
  {
   "cell_type": "code",
   "execution_count": 20,
   "id": "42abb1d9-a930-406c-a60b-81a1bb807c60",
   "metadata": {},
   "outputs": [
    {
     "name": "stdout",
     "output_type": "stream",
     "text": [
      "768\n"
     ]
    }
   ],
   "source": [
    "print(len(user_question_embedding))"
   ]
  },
  {
   "cell_type": "code",
   "execution_count": 21,
   "id": "67463a22-88d8-4c6e-a80f-bf1df4daedac",
   "metadata": {},
   "outputs": [
    {
     "name": "stdout",
     "output_type": "stream",
     "text": [
      "(768,)\n"
     ]
    }
   ],
   "source": [
    "v = np.array(user_question_embedding)\n",
    "print(v.shape)"
   ]
  },
  {
   "cell_type": "code",
   "execution_count": 25,
   "id": "06d78c42-e0be-4920-86f9-e5bc407d2916",
   "metadata": {},
   "outputs": [],
   "source": [
    "scores = X.dot(v)"
   ]
  },
  {
   "cell_type": "code",
   "execution_count": 26,
   "id": "d374e4f6-b1c1-4a3f-ada4-2300d40426c7",
   "metadata": {},
   "outputs": [
    {
     "name": "stdout",
     "output_type": "stream",
     "text": [
      "<class 'numpy.ndarray'>\n"
     ]
    }
   ],
   "source": [
    "print(type(scores))"
   ]
  },
  {
   "cell_type": "code",
   "execution_count": 29,
   "id": "89e802ab-f6fa-43f3-a721-20a8a999add7",
   "metadata": {},
   "outputs": [
    {
     "name": "stdout",
     "output_type": "stream",
     "text": [
      "0.6506573\n"
     ]
    }
   ],
   "source": [
    "max_value = np.max(scores)\n",
    "print(max_value)"
   ]
  },
  {
   "cell_type": "code",
   "execution_count": 30,
   "id": "97c321a7-391c-4e0a-bb82-78f4ab110dad",
   "metadata": {},
   "outputs": [],
   "source": [
    "class VectorSearchEngine():\n",
    "    def __init__(self, documents, embeddings):\n",
    "        self.documents = documents\n",
    "        self.embeddings = embeddings\n",
    "\n",
    "    def search(self, v_query, num_results=10):\n",
    "        scores = self.embeddings.dot(v_query)\n",
    "        idx = np.argsort(-scores)[:num_results]\n",
    "        return [self.documents[i] for i in idx]\n"
   ]
  },
  {
   "cell_type": "code",
   "execution_count": 31,
   "id": "5b54c8ed-34a2-43b1-aaef-cf3d5c03bd87",
   "metadata": {},
   "outputs": [],
   "source": [
    "search_engine = VectorSearchEngine(documents=data, embeddings=X)"
   ]
  },
  {
   "cell_type": "code",
   "execution_count": 32,
   "id": "ca1cd744-728f-4748-ba0e-c0f462d1d78c",
   "metadata": {},
   "outputs": [
    {
     "data": {
      "text/plain": [
       "[{'text': 'Yes, you can. You won’t be able to submit some of the homeworks, but you can still take part in the course.\\nIn order to get a certificate, you need to submit 2 out of 3 course projects and review 3 peers’ Projects by the deadline. It means that if you join the course at the end of November and manage to work on two projects, you will still be eligible for a certificate.',\n",
       "  'section': 'General course-related questions',\n",
       "  'question': 'The course has already started. Can I still join it?',\n",
       "  'course': 'machine-learning-zoomcamp',\n",
       "  'id': 'ee58a693'},\n",
       " {'text': 'Welcome to the course! Go to the course page (http://mlzoomcamp.com/), scroll down and start going through the course materials. Then read everything in the cohort folder for your cohort’s year.\\nClick on the links and start watching the videos. Also watch office hours from previous cohorts. Go to DTC youtube channel and click on Playlists and search for {course yyyy}. ML Zoomcamp was first launched in 2021.\\nOr you can just use this link: http://mlzoomcamp.com/#syllabus',\n",
       "  'section': 'General course-related questions',\n",
       "  'question': 'I just joined. What should I do next? How can I access course materials?',\n",
       "  'course': 'machine-learning-zoomcamp',\n",
       "  'id': '0a278fb2'},\n",
       " {'text': \"The process is automated now, so you should receive the email eventually. If you haven’t, check your promotions tab in Gmail as well as spam.\\nIf you unsubscribed from our newsletter, you won't get course related updates too.\\nBut don't worry, it’s not a problem. To make sure you don’t miss anything, join the #course-ml-zoomcamp channel in Slack and our telegram channel with announcements. This is enough to follow the course.\",\n",
       "  'section': 'General course-related questions',\n",
       "  'question': \"I filled the form, but haven't received a confirmation email. Is it normal?\",\n",
       "  'course': 'machine-learning-zoomcamp',\n",
       "  'id': '6ba259b1'},\n",
       " {'text': 'Technically, yes. Advisable? Not really. Reasons:\\nSome homework(s) asks for specific python library versions.\\nAnswers may not match in MCQ options if using different languages other than Python 3.10 (the recommended version for 2023 cohort)\\nAnd as for midterms/capstones, your peer-reviewers may not know these other languages. Do you want to be penalized for others not knowing these other languages?\\nYou can create a separate repo using course’s lessons but written in other languages for your own learnings, but not advisable for submissions.\\ntx[source]',\n",
       "  'section': 'Miscellaneous',\n",
       "  'question': 'Can I do the course in other languages, like R or Scala?',\n",
       "  'course': 'machine-learning-zoomcamp',\n",
       "  'id': '9f261648'},\n",
       " {'text': 'We won’t re-record the course videos. The focus of the course and the skills we want to teach remained the same, and the videos are still up-to-date.\\nIf you haven’t taken part in the previous iteration, you can start watching the videos. It’ll be useful for you and you will learn new things. However, we recommend using Python 3.10 now instead of Python 3.8.',\n",
       "  'section': 'General course-related questions',\n",
       "  'question': 'The course videos are from the previous iteration. Will you release new ones or we’ll use the videos from 2021?',\n",
       "  'course': 'machine-learning-zoomcamp',\n",
       "  'id': 'e7ba6b8a'}]"
      ]
     },
     "execution_count": 32,
     "metadata": {},
     "output_type": "execute_result"
    }
   ],
   "source": [
    "search_engine.search(v, num_results=5)"
   ]
  },
  {
   "cell_type": "code",
   "execution_count": 33,
   "id": "d9219bb0-451a-4306-9f83-8cb0f2661200",
   "metadata": {},
   "outputs": [],
   "source": [
    "import pandas as pd\n",
    "\n",
    "base_url = 'https://github.com/DataTalksClub/llm-zoomcamp/blob/main'\n",
    "relative_url = '03-vector-search/eval/ground-truth-data.csv'\n",
    "ground_truth_url = f'{base_url}/{relative_url}?raw=1'\n",
    "\n",
    "df_ground_truth = pd.read_csv(ground_truth_url)\n",
    "df_ground_truth = df_ground_truth[df_ground_truth.course == 'machine-learning-zoomcamp']\n",
    "ground_truth = df_ground_truth.to_dict(orient='records')"
   ]
  },
  {
   "cell_type": "code",
   "execution_count": 38,
   "id": "0c89a0e9-6307-4b70-a85e-6914cff825fe",
   "metadata": {},
   "outputs": [
    {
     "name": "stdout",
     "output_type": "stream",
     "text": [
      "<class 'list'>\n",
      "{'question': 'Where can I sign up for the course?', 'course': 'machine-learning-zoomcamp', 'document': '0227b872'}\n"
     ]
    }
   ],
   "source": [
    "print(type(ground_truth))\n",
    "print(ground_truth[0])"
   ]
  },
  {
   "cell_type": "code",
   "execution_count": 56,
   "id": "e7e40a4f-b50c-49df-8cf4-c2151ddccdae",
   "metadata": {},
   "outputs": [],
   "source": [
    "sum = 0\n",
    "for i in range(len(ground_truth)):\n",
    "    question = ground_truth[i]['question']\n",
    "    doc_id = ground_truth[i]['document']\n",
    "    # print(question, doc_id)\n",
    "    question_embedding = embedding_model.encode(question)\n",
    "    results = search_engine.search(question_embedding, num_results=5)\n",
    "    for hit in results:\n",
    "        if hit['id'] == doc_id:\n",
    "            sum += 1\n",
    "            break"
   ]
  },
  {
   "cell_type": "code",
   "execution_count": 57,
   "id": "29a47ad5-7a58-46fe-9acb-8f9d4f174de8",
   "metadata": {},
   "outputs": [],
   "source": [
    "hit_rate = float(sum/len(ground_truth))"
   ]
  },
  {
   "cell_type": "code",
   "execution_count": 61,
   "id": "5fd1a996-71b4-4a72-8464-c277e6bb86a0",
   "metadata": {},
   "outputs": [
    {
     "name": "stdout",
     "output_type": "stream",
     "text": [
      "1720\n",
      "1830\n",
      "0.9398907103825137\n"
     ]
    }
   ],
   "source": [
    "print(sum)\n",
    "print(len(ground_truth))\n",
    "print(hit_rate)"
   ]
  },
  {
   "cell_type": "code",
   "execution_count": null,
   "id": "e7024ae5-6f08-485c-8fbe-e7321aa12a18",
   "metadata": {},
   "outputs": [],
   "source": [
    "from elasticsearch import Elasticsearch\n",
    "es_client = Elasticsearch('http://localhost:9200')\n",
    "es_client.info()"
   ]
  },
  {
   "cell_type": "code",
   "execution_count": null,
   "id": "7f322dae-cf2a-4195-a409-0595057574f7",
   "metadata": {},
   "outputs": [],
   "source": [
    "index_settings = {\n",
    "    \"settings\": {\n",
    "        \"number_of_shards\": 1,\n",
    "        \"number_of_replicas\": 0\n",
    "    },\n",
    "    \"mappings\": {\n",
    "        \"properties\": {\n",
    "            \"text_vector\": {\"type\": \"dense_vector\", \"dims\": 768, \"index\": True, \"similarity\": \"cosine\"},\n",
    "        }\n",
    "    }\n",
    "}\n",
    "\n",
    "index_name = \"course-questions\"\n",
    "\n",
    "es_client.indices.create(index=index_name, body=index_settings)"
   ]
  },
  {
   "cell_type": "code",
   "execution_count": null,
   "id": "55a725e4-be6d-4210-b004-653590a9b78a",
   "metadata": {},
   "outputs": [],
   "source": [
    "from tqdm.auto import tqdm "
   ]
  },
  {
   "cell_type": "code",
   "execution_count": null,
   "id": "4918a5ac-be39-4c78-9eda-14927c476fb7",
   "metadata": {},
   "outputs": [],
   "source": [
    "for doc in tqdm(embeddings):\n",
    "    es_client.index(index=index_name, document=doc)\n",
    "    "
   ]
  }
 ],
 "metadata": {
  "kernelspec": {
   "display_name": "Python 3 (ipykernel)",
   "language": "python",
   "name": "python3"
  },
  "language_info": {
   "codemirror_mode": {
    "name": "ipython",
    "version": 3
   },
   "file_extension": ".py",
   "mimetype": "text/x-python",
   "name": "python",
   "nbconvert_exporter": "python",
   "pygments_lexer": "ipython3",
   "version": "3.10.13"
  }
 },
 "nbformat": 4,
 "nbformat_minor": 5
}
